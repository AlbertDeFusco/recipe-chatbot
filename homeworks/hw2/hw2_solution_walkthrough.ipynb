{
  "cells": [
    {
      "cell_type": "code",
      "execution_count": 33,
      "metadata": {},
      "outputs": [],
      "source": [
        "from textwrap import dedent"
      ]
    },
    {
      "cell_type": "markdown",
      "metadata": {
        "vscode": {
          "languageId": "raw"
        }
      },
      "source": [
        "# Homework 2: Recipe Bot Error Analysis\n",
        "\n",
        "This notebook walks through the complete error analysis process for a Recipe Bot. We'll identify failure modes, generate test queries, and analyze bot responses to build a taxonomy of errors.\n",
        "\n",
        "**Note:** This uses the pre-existing queries and bot responses in `results_20250518_215844.csv` as our data source.\n"
      ]
    },
    {
      "cell_type": "code",
      "execution_count": 34,
      "metadata": {},
      "outputs": [
        {
          "name": "stdout",
          "output_type": "stream",
          "text": [
            "Loaded 250 synthetic queries\n",
            "Loaded 250 bot responses\n"
          ]
        }
      ],
      "source": [
        "import pandas as pd\n",
        "import json\n",
        "import matplotlib.pyplot as plt\n",
        "from collections import Counter\n",
        "import random\n",
        "import httpx\n",
        "\n",
        "# Load the data\n",
        "synthetic_queries = pd.read_csv('synthetic_queries_for_analysis.csv')\n",
        "bot_results = pd.read_csv('results_20250518_215844.csv')\n",
        "\n",
        "print(f\"Loaded {len(synthetic_queries)} synthetic queries\")\n",
        "print(f\"Loaded {len(bot_results)} bot responses\")\n"
      ]
    },
    {
      "cell_type": "code",
      "execution_count": 35,
      "metadata": {},
      "outputs": [
        {
          "data": {
            "text/plain": [
              "'claude-sonnet-4-20250514'"
            ]
          },
          "execution_count": 35,
          "metadata": {},
          "output_type": "execute_result"
        }
      ],
      "source": [
        "from claudette import models, Client\n",
        "model = models[1]\n",
        "c = Client(model)\n",
        "model"
      ]
    },
    {
      "cell_type": "markdown",
      "metadata": {
        "vscode": {
          "languageId": "raw"
        }
      },
      "source": [
        "## Part 1: Define Dimensions & Generate Initial Queries"
      ]
    },
    {
      "cell_type": "markdown",
      "metadata": {
        "vscode": {
          "languageId": "raw"
        }
      },
      "source": [
        "### Identify Key Dimensions\n"
      ]
    },
    {
      "cell_type": "markdown",
      "metadata": {},
      "source": [
        "\n",
        "1. **Dietary Restrictions**: What dietary limits does the user have?\n",
        "   - Low Carb\n",
        "   - Keto\n",
        "   - No Seafood\n",
        "\n",
        "2. **What For**: What is the meal for?\n",
        "   - Potluck\n",
        "   - Dinner party\n",
        "   - Cooking for the family\n",
        "   - Snacks\n",
        "\n",
        "3. **Time Available**: How much time do they have?\n",
        "   - Under 15\n",
        "   - 30 minutes\n",
        "   - 1 hour\n",
        "\n",
        "4. **Ingredient Base**:\n",
        "   - Beans\n",
        "   - Pasta\n",
        "   - Ground Beef\n",
        "\n",
        "5. **Meal Time**:\n",
        "   - Breakfast\n",
        "   - Lunch\n",
        "   - Dinner\n"
      ]
    },
    {
      "cell_type": "markdown",
      "metadata": {},
      "source": [
        "### Generate Unique Combinations"
      ]
    },
    {
      "cell_type": "code",
      "execution_count": 36,
      "metadata": {},
      "outputs": [],
      "source": [
        "prompt = dedent('''\\\n",
        "    I am designing a Recipe Bot and want to test it with a diverse set of user scenarios. Please generate 20 unique combinations (tuples) using the following key dimensions and their possible values:\n",
        "\n",
        "    - Dietary Restrictions: Low Carb, Keto, No Seafood\n",
        "    - What For: Potluck, Dinner party, Cooking for the family, Snacks\n",
        "    - Time Available: Under 15, 30 minutes, 1 hour\n",
        "    - Ingredient Base: Beans, Pasta, Ground Beef\n",
        "    - Meal Time: Breakfast, Lunch, Dinner\n",
        "\n",
        "    Each combination should select one value from each dimension. Present the results as a list of tuples, where each tuple contains one value for each dimension in the following order: (Dietary Restrictions, What For, Time Available, Ingredient Base, Meal Time). Ensure that the combinations are varied and realistic.''')\n"
      ]
    },
    {
      "cell_type": "code",
      "execution_count": 16,
      "metadata": {},
      "outputs": [],
      "source": [
        "# c(prompt)"
      ]
    },
    {
      "cell_type": "code",
      "execution_count": 18,
      "metadata": {},
      "outputs": [],
      "source": [
        "dimension_examples = (\n",
        "    # Beans aren't keto, should bot offer alternative?\n",
        "    ('Keto', 'Snacks', '1 hour', 'Beans', 'Lunch'),\n",
        "    ('Low Carb', 'Dinner party', '1 hour', 'Ground Beef', 'Dinner'),\n",
        "    # Fairly quick thing for family using an ingredient that's easy to get\n",
        "    ('Keto', 'Cooking for the family', '30 minutes', 'Ground Beef', 'Lunch'),\n",
        "    # Pasta seems good for potlucks since you can make a lot of it\n",
        "    ('No Seafood', 'Potluck', '1 hour', 'Pasta', 'Dinner'), \n",
        "    # Nice for protein snack like lettuce cups\n",
        "    ('Low Carb', 'Snacks', 'Under 15', 'Ground Beef', 'Lunch'),\n",
        "    # Often I have beans on hand and want to use them for something\n",
        "    ('Keto', 'Cooking for the family', 'Under 15', 'Beans', 'Breakfast'),\n",
        "    ('No Seafood', 'Dinner party', '30 minutes', 'Pasta', 'Dinner'),\n",
        "    ('Low Carb', 'Cooking for the family', '1 hour', 'Beans', 'Dinner'),\n",
        "    ('Keto', 'Potluck', '30 minutes', 'Ground Beef', 'Dinner'),\n",
        "    ('No Seafood', 'Snacks', 'Under 15', 'Beans', 'Lunch'),\n",
        "    ('Low Carb', 'Potluck', '30 minutes', 'Ground Beef', 'Lunch'),\n",
        "    ('No Seafood', 'Cooking for the family', '1 hour', 'Beans', 'Dinner'),\n",
        "    ('Low Carb', 'Snacks', '30 minutes', 'Beans', 'Breakfast'),\n",
        "    ('Low Carb', 'Dinner party', '30 minutes', 'Beans', 'Lunch'),\n",
        "    ('Keto', 'Cooking for the family', '1 hour', 'Pasta', 'Dinner'),\n",
        "    ('No Seafood', 'Snacks', '30 minutes', 'Ground Beef', 'Breakfast'),\n",
        "    ('Low Carb', 'Cooking for the family', 'Under 15', 'Pasta', 'Breakfast'),\n",
        "    # Breakfast potluck and dinner party?  Who does that?\n",
        "    # ('Keto', 'Potluck', '1 hour', 'Beans', 'Breakfast')\n",
        "    # ('No Seafood', 'Potluck', 'Under 15', 'Pasta', 'Breakfast'),\n",
        "    # ('Keto', 'Dinner party', 'Under 15', 'Ground Beef', 'Breakfast'),\n",
        "\n",
        ")"
      ]
    },
    {
      "cell_type": "markdown",
      "metadata": {},
      "source": [
        "### Generate Nature Language Queries"
      ]
    },
    {
      "cell_type": "code",
      "execution_count": 29,
      "metadata": {},
      "outputs": [],
      "source": [
        "\n",
        "followup_prompt = dedent('''\\\n",
        "   Convert these dimension combinations into realistic user queries for a recipe bot. Create natural, conversational queries that reflect how real users would interact in chat interfaces like Discord or ChatGPT. Include variations in:\n",
        "   - Writing style (formal vs casual)\n",
        "   - Sentence structure (complete vs incomplete)\n",
        "   - Common typos and informal grammar\n",
        "   - Natural language patterns\n",
        "   - Realistic context and urgency\n",
        "                         \n",
        "    Include only 1 example per `dimension_example`.\n",
        "                         \n",
        "    <dimension_examples>\n",
        "    {dimension_examples}\n",
        "    </dimension_examples>''')"
      ]
    },
    {
      "cell_type": "code",
      "execution_count": 37,
      "metadata": {},
      "outputs": [],
      "source": [
        "# random.seed(42)\n",
        "# dimension_samples_for_nlp = random.sample(dimension_examples, 7)\n",
        "# dimension_samples_for_nlp"
      ]
    },
    {
      "cell_type": "code",
      "execution_count": 32,
      "metadata": {},
      "outputs": [],
      "source": [
        "# c(followup_prompt.format(dimension_examples=dimension_samples_for_nlp))"
      ]
    },
    {
      "cell_type": "markdown",
      "metadata": {},
      "source": [
        "**1. No Seafood + Potluck + 1 hour + Pasta + Dinner**\n",
        "\n",
        "Hey! Need help with a pasta dish for tonight's potluck dinner - something that takes about an hour to make and NO seafood please (allergies in the group). Any ideas?\n",
        "\n",
        "**2. Keto + Snacks + 1 hour + Beans + Lunch**\n",
        "\n",
        "can i make keto lunch snacks with beans? have about an hour to prep\n",
        "\n",
        "**3. No Seafood + Family + 1 hour + Beans + Dinner**\n",
        "\n",
        "Looking for a family-friendly bean dinner recipe that I can prepare within an hour. Please ensure it contains no seafood as my youngest is allergic.\n",
        "\n",
        "**4. Low Carb + Snacks + Under 15 + Ground Beef + Lunch**\n",
        "\n",
        "quick low carb ground beef snack for lunch?? need something in 15 min or less\n",
        "\n",
        "**5. Low Carb + Family + Under 15 + Pasta + Breakfast**\n",
        "\n",
        "weird request but need low carb pasta breakfast for the fam in under 15 mins - running late for school!\n",
        "\n",
        "**6. Low Carb + Snacks + 30 minutes + Beans + Breakfast**\n",
        "\n",
        "Morning! Could you suggest a low-carb bean snack that works for breakfast? I have about 30 minutes to spare.\n",
        "\n",
        "**7. Keto + Family + 30 minutes + Ground Beef + Lunch**\n",
        "\n",
        "family keto lunch with ground beef - 30 min max, kids are getting hangry lol"
      ]
    },
    {
      "cell_type": "code",
      "execution_count": 41,
      "metadata": {},
      "outputs": [],
      "source": [
        "test_messages = [\n",
        "    '''Hey! Need help with a pasta dish for tonight's potluck dinner - something that takes about an hour to make and NO seafood please (allergies in the group). Any ideas?''',\n",
        "    '''can i make keto lunch snacks with beans? have about an hour to prep''',\n",
        "    '''Looking for a family-friendly bean dinner recipe that I can prepare within an hour. Please ensure it contains no seafood as my youngest is allergic.''',\n",
        "    '''quick low carb ground beef snack for lunch?? need something in 15 min or less''',\n",
        "    '''weird request but need low carb pasta breakfast for the fam in under 15 mins - running late for school!''',\n",
        "    '''Morning! Could you suggest a low-carb bean snack that works for breakfast? I have about 30 minutes to spare.''',\n",
        "    '''family keto lunch with ground beef - 30 min max, kids are getting hangry lol''']"
      ]
    },
    {
      "cell_type": "markdown",
      "metadata": {},
      "source": [
        "## Part 2: Initial Error Analysis"
      ]
    },
    {
      "cell_type": "markdown",
      "metadata": {},
      "source": [
        "### Run bot on synthetic queries"
      ]
    },
    {
      "cell_type": "markdown",
      "metadata": {},
      "source": [
        "I decided at this point to implement automated tracing.  Copying and pasting from the UI felt annoying and I didn't want to do that.  So I felt like I had 2 main options:\n",
        "\n",
        "1. Implement functions that can call the backend programatically\n",
        "2. Implement automated tracing\n",
        "\n",
        "I opted for option #2 because I wanted to be a user of my product more, and did not want to fully automate away the experience of using the actual application.\n",
        "\n",
        "So I implemented the simplest tracing mechanism I could think of to start with.  Saving JSON files to disk.\n",
        "\n",
        "\n",
        "```python\n",
        "    traces_dir = Path(__file__).parent.parent / \"annotation\" / \"traces\"\n",
        "    traces_dir.mkdir(parents=True, exist_ok=True)\n",
        "    ts = datetime.datetime.now().strftime(\"%Y%m%d_%H%M%S_%f\")\n",
        "    trace_path = traces_dir / f\"trace_{ts}.json\"\n",
        "    with open(trace_path, \"w\") as f:\n",
        "        json.dump({\n",
        "            \"request\": payload.model_dump(),\n",
        "            \"response\": response.model_dump()\n",
        "        }, f)\n",
        "```"
      ]
    },
    {
      "cell_type": "markdown",
      "metadata": {},
      "source": [
        "I took each of the synthetic queries and ran them through the app to generate the traces.  I then copied them into a `golden_dataset` folder which is what ill use for my open coding dataset for this excersize."
      ]
    },
    {
      "cell_type": "markdown",
      "metadata": {},
      "source": [
        "### Open Coding"
      ]
    },
    {
      "cell_type": "markdown",
      "metadata": {},
      "source": [
        "To do open coding I opted to create an annotation app with fasthtml.  You can see it in `annotation/annotation.py` and run it with `python annotation.py`.  This reads the json files from the `golden_dataset` folder directly, and then saves any of my open coding notes back in the json file.  I only solved for open coding first."
      ]
    },
    {
      "cell_type": "markdown",
      "metadata": {},
      "source": [
        "![](imgs/open_coding_dashboard.png)\n",
        "\n",
        "![](imgs/open_coding_notes.png)"
      ]
    },
    {
      "cell_type": "markdown",
      "metadata": {},
      "source": [
        "UX things I noticed along the way I will improve over time:\n",
        "- Kinda annoying not to have a next button and have to go back to the dashboard\n",
        "- Dashboard needs some indication as to what's been done so when I come back to it it's not lost"
      ]
    },
    {
      "cell_type": "markdown",
      "metadata": {},
      "source": [
        "I adressed this by using an href for next and previous, and added a single emoji for it open coding was done.  I then extended it to give 2 emojis if both open coding and axial coding was done."
      ]
    },
    {
      "cell_type": "markdown",
      "metadata": {},
      "source": [
        "![](./imgs/NewDashboard.png)"
      ]
    },
    {
      "cell_type": "markdown",
      "metadata": {},
      "source": [
        "### Axial Coding and Taxonomy Definition"
      ]
    },
    {
      "cell_type": "markdown",
      "metadata": {},
      "source": [
        "I then went through and did axial coding.  I did this by adding MonsterUI's insertable select and saving things back to json.\n",
        "\n",
        "The insertable select saves to the json as well and lets you search and add new codes as you go if one doesne exist"
      ]
    },
    {
      "cell_type": "markdown",
      "metadata": {},
      "source": [
        "Findings:\n",
        "\n",
        "- I failure modes had just 1 or 2 traces in them.  This tells me that I probably have not seen all the failure modes and have not reached saturation.  I need to do more\n",
        "- Maybe the original instruction for no follow up quesetions was bad.  If someone asks for keto + beans it's impossible to comply with both, and seems like in that case it makes sense to have a follow up question."
      ]
    },
    {
      "cell_type": "markdown",
      "metadata": {},
      "source": []
    }
  ],
  "metadata": {
    "kernelspec": {
      "display_name": ".venv",
      "language": "python",
      "name": "python3"
    },
    "language_info": {
      "codemirror_mode": {
        "name": "ipython",
        "version": 3
      },
      "file_extension": ".py",
      "mimetype": "text/x-python",
      "name": "python",
      "nbconvert_exporter": "python",
      "pygments_lexer": "ipython3",
      "version": "3.12.8"
    }
  },
  "nbformat": 4,
  "nbformat_minor": 2
}
